{
 "cells": [
  {
   "cell_type": "markdown",
   "id": "c43a1fba-bb74-498c-97ed-ccfa9d88ea40",
   "metadata": {},
   "source": [
    "## Downstream task #########"
   ]
  },
  {
   "cell_type": "code",
   "execution_count": 1,
   "id": "943291c3",
   "metadata": {},
   "outputs": [],
   "source": [
    "import sys\n",
    "import os\n",
    "import warnings\n",
    "warnings.filterwarnings('ignore')  # ignore warnings, like ZeroDivision\n",
    "\n",
    "# Go up one directory from 'notebooks/' to project root\n",
    "project_root = os.path.abspath('..')\n",
    "sys.path.append(project_root)"
   ]
  },
  {
   "cell_type": "code",
   "execution_count": 2,
   "id": "71823362-13a8-4fc9-83ce-395677d7d5bf",
   "metadata": {},
   "outputs": [
    {
     "name": "stdout",
     "output_type": "stream",
     "text": [
      "GPU is available. Using GPU for computation.\n"
     ]
    }
   ],
   "source": [
    "import torch\n",
    "\n",
    "# Check if GPU is available\n",
    "if torch.cuda.is_available():\n",
    "    # Set the device to GPU\n",
    "    device = torch.device(\"cuda\")\n",
    "    print(\"GPU is available. Using GPU for computation.\")\n",
    "else:\n",
    "    # If GPU is not available, fall back to CPU\n",
    "    device = torch.device(\"cpu\")\n",
    "    print(\"GPU is not available. Using CPU for computation.\")"
   ]
  },
  {
   "cell_type": "code",
   "execution_count": null,
   "id": "6f0dc431",
   "metadata": {},
   "outputs": [],
   "source": [
    "from src.transformation_utils import *\n",
    "from src.utils_all import *\n",
    "from src.utils_data import *\n",
    "\n",
    "from src.MAE.utils_mae import *\n",
    "from src.MAE.trainer_mae import *\n",
    "from src.MAE.MAE_1D import *\n",
    "from src.MAE.multi_trait import *\n",
    "from src.MAE.trainer_trait import *\n",
    "\n",
    "# import matplotlib.pyplot as plt\n",
    "\n",
    "# from sklearn.model_selection import train_test_split\n",
    "\n",
    "import gc\n",
    "\n",
    "##################\n",
    "d = 10\n",
    "h = 16\n",
    "w_loss = 1\n",
    "\n",
    "SeqSize = 20\n",
    "percentage_tr = 1\n",
    "batch_size = 256\n",
    "\n",
    "perc = 100\n",
    "\n",
    "checkpoints_path = 'mae_model/checkpoints_MAE_250415_0421_Training100_allUNlabels_155_New_128/'\n",
    "checkpoint_dir_mae = os.path.join(project_root, checkpoints_path)\n",
    "\n",
    "################ Data ###############\n",
    "path_data_lb = os.path.join(project_root, \"Datasets/50_all_traits.csv\")\n",
    "\n",
    "ls_tr = [\"cab\", \"cw\", \"cm\", \"LAI\", \"cp\", \"cbc\", \"car\", \"anth\"]\n",
    "\n"
   ]
  },
  {
   "cell_type": "code",
   "execution_count": null,
   "id": "79c59139",
   "metadata": {},
   "outputs": [],
   "source": [
    "# #### MAE_FR>> bands:1720, type_sp='full' default\n",
    "# #### MAE_HR>> bands:500, type_sp='full'\n",
    "# ### MAE_FR_HR >> bands:1720, type_sp='half'\n",
    "\n",
    "mean_metrics, std_metrics = run_consistent_experiment(checkpoint_dir_mae, path_data_lb, seeds=[155, 381, 187], fine_tune=False, n_epochs = 200, percentage_tr=1, type_sp='full', n_bands=1720,  save=False, name='')\n",
    "mean_metrics, std_metrics = run_consistent_experiment(checkpoint_dir_mae, path_data_lb, seeds=[155, 381, 187], fine_tune=True, n_epochs = 80, percentage_tr=1, type_sp='full', n_bands=1720,  save=False, name='')\n"
   ]
  },
  {
   "cell_type": "code",
   "execution_count": 11,
   "id": "ec4d6104-62f9-4b65-abd8-17840642ad15",
   "metadata": {},
   "outputs": [
    {
     "name": "stdout",
     "output_type": "stream",
     "text": [
      "Encoder has 2006912 parameters.\n",
      "Decoder has 1220116 parameters.\n",
      "Number of trainable parameters: 3192084\n"
     ]
    }
   ],
   "source": [
    "import torch\n",
    "test_mae = load_model(checkpoint_dir_mae, type_sp='full', n_bands=1720, seq_size=20,d=10, h=16,mask_ratio=0.75)\n",
    "\n",
    "# Calculate the number of trainable parameters\n",
    "num_trainable_params = sum(p.numel() for p in test_mae.model.parameters() if p.requires_grad)\n",
    "\n",
    "print(f\"Number of trainable parameters: {num_trainable_params}\")"
   ]
  },
  {
   "cell_type": "code",
   "execution_count": null,
   "id": "594e69a3-ff80-45ca-ac8f-b627bfab0dcc",
   "metadata": {},
   "outputs": [],
   "source": [
    "############## TRansferabiloty ###\n",
    "eval_scores, ext_scores = run_consistent_experimentCV(checkpoint_dir_mae, [155], fine_tune=False, n_epochs = 200, percentage_tr=1, type_sp='full', n_bands=1720,  save=True,  start=0, end=None)\n",
    "eval_scores, ext_scores = run_consistent_experimentCV(checkpoint_dir_mae, [155], fine_tune=True, n_epochs = 80, percentage_tr=1, type_sp='full', n_bands=1720,  save=True,  start=0, end=None)"
   ]
  },
  {
   "cell_type": "code",
   "execution_count": 6,
   "id": "25603d53-a193-4a85-9081-6637a24ae248",
   "metadata": {
    "jupyter": {
     "source_hidden": true
    }
   },
   "outputs": [],
   "source": [
    "# Concatenate all DataFrames along a new axis and calculate mean and std\n",
    "all_dfs = pd.concat(eval_scores.values(), keys=eval_scores.keys())  #eval_scores ext_scores\n",
    "\n",
    "# Compute average and standard deviation across the dictionary\n",
    "# Compute mean and standard deviation while keeping the original order\n",
    "mean_metrics = all_dfs.groupby(level=1, sort=False).mean()\n",
    "std_metrics = all_dfs.groupby(level=1, sort=False).std(ddof=0) ## STDS ddof=1"
   ]
  },
  {
   "cell_type": "code",
   "execution_count": 7,
   "id": "47146083-6427-44f5-bddc-91d60b1e830a",
   "metadata": {
    "collapsed": true,
    "jupyter": {
     "outputs_hidden": true,
     "source_hidden": true
    }
   },
   "outputs": [
    {
     "data": {
      "text/html": [
       "<div>\n",
       "<style scoped>\n",
       "    .dataframe tbody tr th:only-of-type {\n",
       "        vertical-align: middle;\n",
       "    }\n",
       "\n",
       "    .dataframe tbody tr th {\n",
       "        vertical-align: top;\n",
       "    }\n",
       "\n",
       "    .dataframe thead th {\n",
       "        text-align: right;\n",
       "    }\n",
       "</style>\n",
       "<table border=\"1\" class=\"dataframe\">\n",
       "  <thead>\n",
       "    <tr style=\"text-align: right;\">\n",
       "      <th></th>\n",
       "      <th>r2_score</th>\n",
       "      <th>RMSE</th>\n",
       "      <th>nRMSE (%)</th>\n",
       "      <th>MAE</th>\n",
       "      <th>Bias</th>\n",
       "      <th>RPD</th>\n",
       "    </tr>\n",
       "  </thead>\n",
       "  <tbody>\n",
       "    <tr>\n",
       "      <th>cab</th>\n",
       "      <td>0.517631</td>\n",
       "      <td>9.409538</td>\n",
       "      <td>17.312572</td>\n",
       "      <td>6.691334</td>\n",
       "      <td>0.578276</td>\n",
       "      <td>1.445159</td>\n",
       "    </tr>\n",
       "    <tr>\n",
       "      <th>cw</th>\n",
       "      <td>0.391854</td>\n",
       "      <td>0.007004</td>\n",
       "      <td>16.577836</td>\n",
       "      <td>0.004181</td>\n",
       "      <td>0.000281</td>\n",
       "      <td>1.286574</td>\n",
       "    </tr>\n",
       "    <tr>\n",
       "      <th>cm</th>\n",
       "      <td>0.397031</td>\n",
       "      <td>0.004919</td>\n",
       "      <td>14.381215</td>\n",
       "      <td>0.002743</td>\n",
       "      <td>0.000156</td>\n",
       "      <td>1.289751</td>\n",
       "    </tr>\n",
       "    <tr>\n",
       "      <th>LAI</th>\n",
       "      <td>0.567053</td>\n",
       "      <td>1.162055</td>\n",
       "      <td>17.262958</td>\n",
       "      <td>0.851097</td>\n",
       "      <td>-0.056028</td>\n",
       "      <td>1.523229</td>\n",
       "    </tr>\n",
       "    <tr>\n",
       "      <th>cp</th>\n",
       "      <td>0.477985</td>\n",
       "      <td>0.000318</td>\n",
       "      <td>12.561457</td>\n",
       "      <td>0.000193</td>\n",
       "      <td>0.000021</td>\n",
       "      <td>1.391700</td>\n",
       "    </tr>\n",
       "    <tr>\n",
       "      <th>cbc</th>\n",
       "      <td>0.401564</td>\n",
       "      <td>0.004937</td>\n",
       "      <td>14.563138</td>\n",
       "      <td>0.002656</td>\n",
       "      <td>0.000034</td>\n",
       "      <td>1.297041</td>\n",
       "    </tr>\n",
       "    <tr>\n",
       "      <th>car</th>\n",
       "      <td>0.417586</td>\n",
       "      <td>2.184357</td>\n",
       "      <td>15.415402</td>\n",
       "      <td>1.512781</td>\n",
       "      <td>0.044853</td>\n",
       "      <td>1.314069</td>\n",
       "    </tr>\n",
       "    <tr>\n",
       "      <th>anth</th>\n",
       "      <td>0.546895</td>\n",
       "      <td>0.290524</td>\n",
       "      <td>14.973379</td>\n",
       "      <td>0.191235</td>\n",
       "      <td>0.059086</td>\n",
       "      <td>1.505080</td>\n",
       "    </tr>\n",
       "  </tbody>\n",
       "</table>\n",
       "</div>"
      ],
      "text/plain": [
       "      r2_score      RMSE  nRMSE (%)       MAE      Bias       RPD\n",
       "cab   0.517631  9.409538  17.312572  6.691334  0.578276  1.445159\n",
       "cw    0.391854  0.007004  16.577836  0.004181  0.000281  1.286574\n",
       "cm    0.397031  0.004919  14.381215  0.002743  0.000156  1.289751\n",
       "LAI   0.567053  1.162055  17.262958  0.851097 -0.056028  1.523229\n",
       "cp    0.477985  0.000318  12.561457  0.000193  0.000021  1.391700\n",
       "cbc   0.401564  0.004937  14.563138  0.002656  0.000034  1.297041\n",
       "car   0.417586  2.184357  15.415402  1.512781  0.044853  1.314069\n",
       "anth  0.546895  0.290524  14.973379  0.191235  0.059086  1.505080"
      ]
     },
     "execution_count": 7,
     "metadata": {},
     "output_type": "execute_result"
    }
   ],
   "source": [
    "mean_metrics"
   ]
  },
  {
   "cell_type": "code",
   "execution_count": 8,
   "id": "39d37da0-5eba-4131-a03c-32a631379287",
   "metadata": {
    "collapsed": true,
    "jupyter": {
     "outputs_hidden": true,
     "source_hidden": true
    }
   },
   "outputs": [
    {
     "data": {
      "text/html": [
       "<div>\n",
       "<style scoped>\n",
       "    .dataframe tbody tr th:only-of-type {\n",
       "        vertical-align: middle;\n",
       "    }\n",
       "\n",
       "    .dataframe tbody tr th {\n",
       "        vertical-align: top;\n",
       "    }\n",
       "\n",
       "    .dataframe thead th {\n",
       "        text-align: right;\n",
       "    }\n",
       "</style>\n",
       "<table border=\"1\" class=\"dataframe\">\n",
       "  <thead>\n",
       "    <tr style=\"text-align: right;\">\n",
       "      <th></th>\n",
       "      <th>r2_score</th>\n",
       "      <th>RMSE</th>\n",
       "      <th>nRMSE (%)</th>\n",
       "      <th>MAE</th>\n",
       "      <th>Bias</th>\n",
       "      <th>RPD</th>\n",
       "    </tr>\n",
       "  </thead>\n",
       "  <tbody>\n",
       "    <tr>\n",
       "      <th>cab</th>\n",
       "      <td>0.038161</td>\n",
       "      <td>0.376368</td>\n",
       "      <td>0.692477</td>\n",
       "      <td>0.147580</td>\n",
       "      <td>0.948763</td>\n",
       "      <td>0.058967</td>\n",
       "    </tr>\n",
       "    <tr>\n",
       "      <th>cw</th>\n",
       "      <td>0.045050</td>\n",
       "      <td>0.000262</td>\n",
       "      <td>0.620823</td>\n",
       "      <td>0.000088</td>\n",
       "      <td>0.000203</td>\n",
       "      <td>0.049150</td>\n",
       "    </tr>\n",
       "    <tr>\n",
       "      <th>cm</th>\n",
       "      <td>0.028198</td>\n",
       "      <td>0.000115</td>\n",
       "      <td>0.336784</td>\n",
       "      <td>0.000053</td>\n",
       "      <td>0.000497</td>\n",
       "      <td>0.030278</td>\n",
       "    </tr>\n",
       "    <tr>\n",
       "      <th>LAI</th>\n",
       "      <td>0.015666</td>\n",
       "      <td>0.021131</td>\n",
       "      <td>0.313906</td>\n",
       "      <td>0.037679</td>\n",
       "      <td>0.096996</td>\n",
       "      <td>0.027967</td>\n",
       "    </tr>\n",
       "    <tr>\n",
       "      <th>cp</th>\n",
       "      <td>0.056942</td>\n",
       "      <td>0.000018</td>\n",
       "      <td>0.691611</td>\n",
       "      <td>0.000004</td>\n",
       "      <td>0.000032</td>\n",
       "      <td>0.077800</td>\n",
       "    </tr>\n",
       "    <tr>\n",
       "      <th>cbc</th>\n",
       "      <td>0.048197</td>\n",
       "      <td>0.000200</td>\n",
       "      <td>0.589085</td>\n",
       "      <td>0.000034</td>\n",
       "      <td>0.000585</td>\n",
       "      <td>0.052839</td>\n",
       "    </tr>\n",
       "    <tr>\n",
       "      <th>car</th>\n",
       "      <td>0.034107</td>\n",
       "      <td>0.064186</td>\n",
       "      <td>0.452972</td>\n",
       "      <td>0.031854</td>\n",
       "      <td>0.065821</td>\n",
       "      <td>0.038848</td>\n",
       "    </tr>\n",
       "    <tr>\n",
       "      <th>anth</th>\n",
       "      <td>0.056314</td>\n",
       "      <td>0.018385</td>\n",
       "      <td>0.947529</td>\n",
       "      <td>0.007719</td>\n",
       "      <td>0.002688</td>\n",
       "      <td>0.098202</td>\n",
       "    </tr>\n",
       "  </tbody>\n",
       "</table>\n",
       "</div>"
      ],
      "text/plain": [
       "      r2_score      RMSE  nRMSE (%)       MAE      Bias       RPD\n",
       "cab   0.038161  0.376368   0.692477  0.147580  0.948763  0.058967\n",
       "cw    0.045050  0.000262   0.620823  0.000088  0.000203  0.049150\n",
       "cm    0.028198  0.000115   0.336784  0.000053  0.000497  0.030278\n",
       "LAI   0.015666  0.021131   0.313906  0.037679  0.096996  0.027967\n",
       "cp    0.056942  0.000018   0.691611  0.000004  0.000032  0.077800\n",
       "cbc   0.048197  0.000200   0.589085  0.000034  0.000585  0.052839\n",
       "car   0.034107  0.064186   0.452972  0.031854  0.065821  0.038848\n",
       "anth  0.056314  0.018385   0.947529  0.007719  0.002688  0.098202"
      ]
     },
     "execution_count": 8,
     "metadata": {},
     "output_type": "execute_result"
    }
   ],
   "source": [
    "std_metrics"
   ]
  }
 ],
 "metadata": {
  "kernelspec": {
   "display_name": "pytorch_env",
   "language": "python",
   "name": "python3"
  },
  "language_info": {
   "codemirror_mode": {
    "name": "ipython",
    "version": 3
   },
   "file_extension": ".py",
   "mimetype": "text/x-python",
   "name": "python",
   "nbconvert_exporter": "python",
   "pygments_lexer": "ipython3",
   "version": "3.10.16"
  }
 },
 "nbformat": 4,
 "nbformat_minor": 5
}
